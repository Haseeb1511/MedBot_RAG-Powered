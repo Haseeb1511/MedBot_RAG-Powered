{
 "cells": [
  {
   "cell_type": "code",
   "execution_count": 3,
   "id": "35c5dd2a",
   "metadata": {},
   "outputs": [
    {
     "data": {
      "text/plain": [
       "True"
      ]
     },
     "execution_count": 3,
     "metadata": {},
     "output_type": "execute_result"
    }
   ],
   "source": [
    "from langchain.text_splitter import RecursiveCharacterTextSplitter\n",
    "from langchain_community.document_loaders import DirectoryLoader,PyMuPDFLoader\n",
    "from langchain_core.prompts import PromptTemplate\n",
    "from langchain_core.output_parsers import StrOutputParser\n",
    "from langchain_google_genai import ChatGoogleGenerativeAI,GoogleGenerativeAIEmbeddings\n",
    "from langchain_core.runnables import RunnableParallel,RunnablePassthrough,RunnableLambda\n",
    "from langchain_core.output_parsers import StrOutputParser\n",
    "from langchain_core.messages import HumanMessage\n",
    "from langchain.retrievers import EnsembleRetriever,ContextualCompressionRetriever\n",
    "from langchain_community.retrievers import BM25Retriever\n",
    "from langchain_cohere import CohereRerank\n",
    "from langchain_groq import ChatGroq\n",
    "from dotenv import load_dotenv\n",
    "from langchain.callbacks.streaming_stdout import StreamingStdOutCallbackHandler\n",
    "import os\n",
    "load_dotenv()"
   ]
  },
  {
   "cell_type": "markdown",
   "id": "ab87564d",
   "metadata": {},
   "source": [
    "### Document Loading"
   ]
  },
  {
   "cell_type": "code",
   "execution_count": 4,
   "id": "cb85192c",
   "metadata": {},
   "outputs": [
    {
     "name": "stdout",
     "output_type": "stream",
     "text": [
      "len of dermatology  959\n",
      "len of dentist  1449\n",
      "len of psychiatrist  1564\n"
     ]
    }
   ],
   "source": [
    "def doc_load(path):\n",
    "    return DirectoryLoader(path,glob=\"*.pdf\",loader_cls=PyMuPDFLoader).load()\n",
    "\n",
    "\n",
    "path_to_dentist = \"data/Dentist\"\n",
    "path_to_biology = \"data/Dermatology\"\n",
    "path_to_psychiartrist = \"data/psychiatrist\"\n",
    "\n",
    "dentist_document = doc_load(path_to_dentist)\n",
    "dermatology_document = doc_load(path_to_biology)\n",
    "psychiatrist_document = doc_load(path_to_psychiartrist)\n",
    "\n",
    "print(\"len of dermatology \",len(dermatology_document))\n",
    "print(\"len of dentist \",len(dentist_document))\n",
    "print(\"len of psychiatrist \",len(psychiatrist_document))"
   ]
  },
  {
   "cell_type": "markdown",
   "id": "9a45431c",
   "metadata": {},
   "source": [
    "### Text Chunking"
   ]
  },
  {
   "cell_type": "code",
   "execution_count": 5,
   "id": "dcc673e0",
   "metadata": {},
   "outputs": [
    {
     "name": "stdout",
     "output_type": "stream",
     "text": [
      "len of dentist chunnks: 4484\n",
      "len of dermatology chunnks: 2030\n",
      "len of psychiatrist chunnks: 3761\n"
     ]
    }
   ],
   "source": [
    "def text_splitter(doc):\n",
    "    return RecursiveCharacterTextSplitter(chunk_size=1500,chunk_overlap=400).split_documents(doc)\n",
    "\n",
    "dermatology_chunks = text_splitter(dermatology_document)\n",
    "dentist_chunks = text_splitter(dentist_document)\n",
    "psychiatrist_chunks = text_splitter(psychiatrist_document)\n",
    "\n",
    "print(\"len of dentist chunnks:\",len(dentist_chunks))\n",
    "print(\"len of dermatology chunnks:\",len(dermatology_chunks))\n",
    "print(\"len of psychiatrist chunnks:\",len(psychiatrist_chunks))"
   ]
  },
  {
   "cell_type": "markdown",
   "id": "69c5441f",
   "metadata": {},
   "source": [
    "### Creating Vector Store"
   ]
  },
  {
   "cell_type": "code",
   "execution_count": 6,
   "id": "1d893ab8",
   "metadata": {},
   "outputs": [
    {
     "name": "stderr",
     "output_type": "stream",
     "text": [
      "100%|██████████| 51/51 [02:10<00:00,  2.57s/it]\n",
      "100%|██████████| 113/113 [03:11<00:00,  1.70s/it]\n",
      "100%|██████████| 95/95 [02:36<00:00,  1.64s/it]"
     ]
    },
    {
     "name": "stdout",
     "output_type": "stream",
     "text": [
      "Vector store created successfult\n"
     ]
    },
    {
     "name": "stderr",
     "output_type": "stream",
     "text": [
      "\n"
     ]
    }
   ],
   "source": [
    "from langchain.vectorstores import FAISS\n",
    "import os\n",
    "from tqdm import tqdm\n",
    "\n",
    "embedding_model = GoogleGenerativeAIEmbeddings(model=\"models/text-embedding-004\")\n",
    "\n",
    "batch_size=40\n",
    "def create_vector_store(chunks,path):\n",
    "    vectore_store =None\n",
    "    for i in tqdm(range(0,len(chunks),batch_size)):\n",
    "        batch = chunks[i:i+batch_size]\n",
    "        if vectore_store is None:\n",
    "            vectore_store = FAISS.from_documents(embedding=embedding_model,documents=batch)\n",
    "        else:\n",
    "            new_store = FAISS.from_documents(embedding=embedding_model,documents=batch)\n",
    "            vectore_store.merge_from(new_store)\n",
    "    vectore_store.save_local(folder_path=path)\n",
    "    return vectore_store\n",
    "\n",
    "os.makedirs(\"FAISS/dermatology\", exist_ok=True)\n",
    "os.makedirs(\"FAISS/dentis\", exist_ok=True)\n",
    "os.makedirs(\"FAISS/psychiatrist\", exist_ok=True)\n",
    "\n",
    "dermatology_vector_store_path = \"FAISS/dermatology/\"\n",
    "dentis_vector_store_path =  \"FAISS/dentis/\"\n",
    "psychiatrist_store_path = \"FAISS/psychiatrist\"\n",
    "\n",
    "dermatology_vector_store = create_vector_store(dermatology_chunks,dermatology_vector_store_path) \n",
    "dentis_vector_store = create_vector_store(dentist_chunks,dentis_vector_store_path)\n",
    "psychiatrist_store = create_vector_store(psychiatrist_chunks,psychiatrist_store_path)\n",
    "\n",
    "print(\"Vector store created successfult\")"
   ]
  },
  {
   "cell_type": "markdown",
   "id": "e99fe855",
   "metadata": {},
   "source": [
    "## Loading Vector Stores"
   ]
  },
  {
   "cell_type": "code",
   "execution_count": 6,
   "id": "91e41c3f",
   "metadata": {},
   "outputs": [],
   "source": [
    "from langchain.vectorstores import FAISS\n",
    "dermatology_vector_store_path = \"FAISS/dermatology/\"\n",
    "dentis_vector_store_path =  \"FAISS/dentis/\"\n",
    "psychiatrist_store_path = \"FAISS/psychiatrist\"\n",
    "\n",
    "embedding_model = GoogleGenerativeAIEmbeddings(model=\"models/text-embedding-004\",batch_size=20)\n",
    "\n",
    "dermatology_vector_store = FAISS.load_local(folder_path=dermatology_vector_store_path,embeddings=embedding_model,allow_dangerous_deserialization=True)\n",
    "dentis_vector_store = FAISS.load_local(folder_path=dentis_vector_store_path,embeddings=embedding_model,allow_dangerous_deserialization=True)\n",
    "psychiatrist_vector_store = FAISS.load_local(folder_path=psychiatrist_store_path,embeddings=embedding_model,allow_dangerous_deserialization=True)"
   ]
  },
  {
   "cell_type": "markdown",
   "id": "8ec6df4d",
   "metadata": {},
   "source": [
    "### Retriever(Dense)"
   ]
  },
  {
   "cell_type": "code",
   "execution_count": 8,
   "id": "a250983c",
   "metadata": {},
   "outputs": [
    {
     "data": {
      "text/plain": [
       "[Document(id='0824686e-1081-409c-8e6f-dbd95c9d51ea', metadata={'producer': 'Adobe Acrobat Pro 11.0.0 Paper Capture Plug-in', 'creator': 'Adobe InDesign CC 2015 (Windows)', 'creationdate': '2017-02-19T22:14:14+00:00', 'source': 'data\\\\Dermatology\\\\Oxford-Handbook-of-Medical-Dermatology.pdf', 'file_path': 'data\\\\Dermatology\\\\Oxford-Handbook-of-Medical-Dermatology.pdf', 'total_pages': 717, 'format': 'PDF 1.6', 'title': 'Oxford Handbook of Medical Dermatology', 'author': 'Susan Burge,Rubeta Matin,Dinny Wallis', 'subject': '', 'keywords': '', 'moddate': '2017-04-23T17:17:47+02:00', 'trapped': '', 'modDate': \"D:20170423171747+02'00'\", 'creationDate': 'D:20170219221414Z', 'page': 710}, page_content='keratoacanthoma\\u2002 350\\nleukaemia cutis\\u2002 361\\nmelanoma\\u2002 see malignant \\nmelanoma\\nMerkel cell carcinoma\\u2002 360\\nmetastatic\\u2002 360\\nPaget disease\\u2002 360\\npremalignant epidermal \\nlesions\\u2002 348\\nprevalence\\u2002 55\\nrenal transplant \\nrecipients\\u2002 500\\nrisk factors\\u2002 26,\\xa0347\\nsquamous cell carci-\\nnoma\\u2002 350, 351,\\xa0352\\nskin colour changes\\u2002 88\\ndepigmentation\\u2002 89–\\u200b90\\nhyperpigmentation\\u2002 88\\nhypopigmentation\\u2002 89–\\u200b90\\nskin conditions\\nepidemiology\\u2002 54,\\xa055\\nimpact\\u2002 18,\\xa019,\\xa032\\npsychological effects\\u2002 36\\nskin failure\\u2002 106\\ncauses\\u2002 107\\ndefinition\\u2002 106\\nmanagement\\u2002 107\\nsymptoms\\u2002 106\\nskin flora\\u2002 130–\\u200b1\\nskin scrapes/\\u200bsmears\\u2002 646\\nfungal infections\\u2002 646\\nTzanck \\npreparation\\u2002 154,\\xa0647\\nskin\\xa0swabs\\nbacterial culture\\u2002 644\\nviral culture\\u2002 644\\nskin-\\u200bprick testing\\u2002 642\\nslapped cheek \\nsyndrome\\u2002 150\\nSlip-\\u200bSlop-\\u200bSlap-\\u200bSeek-\\u200bSlide  \\n347\\nsmall fibre neuropathies  \\n569\\nsmall-\\u200bvessel cutaneous \\nvasculitis\\u2002 438,\\xa0440\\ncauses\\u2002 441\\ninvestigations\\u2002 441\\nmanagement\\u2002 441\\nSmith-\\u200bLemli-\\u200bOpitz \\nsyndrome\\u2002 324\\nsmooth erythematous \\nrashes\\u2002 68\\nsmoothened (Smo)  \\nreceptor inhibitors,  \\ncutaneous reactions\\u2002   \\n385\\nSneddon syndrome\\u2002 453\\nsoaks\\u2002 662\\nsoap substitutes\\u2002 610,\\xa0655\\nsolar elastosis\\u2002 43\\nsolar keratoses\\u2002 43, 71, 83, \\n348,\\xa0349\\nsolar lentigines\\u2002 43\\nsolar spectrum\\u2002 321\\nsolar urticaria\\u2002 230,\\xa0329\\nSPF\\u2002 339\\nspider telangiectasia\\u2002 506–\\u200b7\\nspinal dysraphism, \\noccult\\u2002 594\\nspinous (prickle cell) \\nlayers\\u2002 4\\nspironolactone\\u2002 479\\nsplinter haemorrhage\\u2002 96\\nspongiosis\\u2002 650\\nsprue\\u2002 see coeliac disease\\nsquamous cell \\ncarcinoma\\u2002 350,\\xa0351\\nhigh-\\u200brisk factors\\u2002 351\\ntreatment\\u2002 352'),\n",
       " Document(id='dfa723e8-6392-4949-a9a8-581229a27c0e', metadata={'producer': '3-Heights(TM) PDF Producer 4.2.26.0 (http://www.pdf-tools.com)', 'creator': 'calibre (0.9.42) [http://calibre-ebook.com]', 'creationdate': '2014-03-19T14:11:25+05:30', 'source': 'data\\\\Dermatology\\\\9781118520154.pdf', 'file_path': 'data\\\\Dermatology\\\\9781118520154.pdf', 'total_pages': 242, 'format': 'PDF 1.5', 'title': 'ABC of Dermatology', 'author': 'Morris-Jones, Rachael', 'subject': '', 'keywords': '', 'moddate': '2014-04-22T20:56:55+10:00', 'trapped': '', 'modDate': \"D:20140422205655+10'00'\", 'creationDate': \"D:20140319141125+05'30'\", 'page': 92}, page_content='example, those working in the field of genodermatoses can look at\\nthe structure, function, any detrimental mutations, interaction with\\nother genes and other diseases mapped to that gene’s location when\\nundertaking research on a particular cutaneous disorder.\\nCutaneous disorders that were originally classified according\\nto clinical manifestations are now being more logically classified\\naccording to molecular defects at a genetic level (Table 10.2).\\nCurrently, around 500 single inheritance gene disorders with\\na significant cutaneous component have been identified at the\\nmolecular level. Although these disorders tend to be rare they can\\nprovide valuable information into the function of the particular\\nprotein or adhesion molecule, and so on, that is affected by the\\ngene defect. In addition, this has led to a deeper understanding of\\ninheritance patterns, more accurate diagnoses for neonates, where\\napplicable prenatal diagnosis, and the hope for future treatments in\\nthe form of gene therapy.\\nAs a general rule, common cutaneous disorders that run in\\nfamilies (familial), such as psoriasis, atopic eczema and acne, have\\nmore complex patterns of inheritance and are therefore more\\ndifficult to define genetically. These disorders are referred to as\\nmultifactorial as several genes are involved in the expression of the\\ndisease in addition to environmental modification (aeroallergens,\\nfood allergy, medication, infections).\\nRecent advances include the identification of two loss-of-function'),\n",
       " Document(id='5f5696e8-58ee-4cda-a212-1e572b897991', metadata={'producer': '3-Heights(TM) PDF Producer 4.2.26.0 (http://www.pdf-tools.com)', 'creator': 'calibre (0.9.42) [http://calibre-ebook.com]', 'creationdate': '2014-03-19T14:11:25+05:30', 'source': 'data\\\\Dermatology\\\\9781118520154.pdf', 'file_path': 'data\\\\Dermatology\\\\9781118520154.pdf', 'total_pages': 242, 'format': 'PDF 1.5', 'title': 'ABC of Dermatology', 'author': 'Morris-Jones, Rachael', 'subject': '', 'keywords': '', 'moddate': '2014-04-22T20:56:55+10:00', 'trapped': '', 'modDate': \"D:20140422205655+10'00'\", 'creationDate': \"D:20140319141125+05'30'\", 'page': 148}, page_content='CHAPTER 18\\nTropical Dermatology\\nRachael Morris-Jones\\nDermatology Department, Kings College Hospital, London, UK\\nOVERVIEW\\n• The majority of tropical diseases are due to infections and\\ninfestations, a large proportion involving the skin.\\n• Hot humid conditions in the tropics and frequent lack of\\neffective health care mean skin diseases are common and\\nrecurrent.\\n• Pyogenic bacteria commonly involve the skin, causing impetigo\\nand erysipelas.\\n• The intensity and type of immune response to tropical diseases\\nsuch as leprosy and leishmaniasis determine the clinical\\nmanifestations.\\n• Cutaneous fungal infections can be very ﬂorid, persistent and\\nrecurrent.\\n• In deep fungal infections, there is chronic inﬂammation in the\\nsubcutaneous tissues. These include chromoblastomycosis,\\nmycetoma, blastomycosis and histoplasmosis.\\n• The most common infestations affecting the skin are scabies and\\nlice. Others include tungiasis, myiasis, onchocerciasis, loiasis\\n(Loa loa) and dracunculiasis.\\nIntroduction\\nTropical dermatology is a diverse topic covering a multitude of\\ndifferent skin diseases many of which are infections and infesta-\\ntions. This chapter concentrates on tropical diseases involving the\\nskin (bacterial, viral, protozoan, helminth and arthropod related).\\nHealth workers in the tropics and subtropics may be familiar with\\nmany of the cutaneous presentations in the local population. How-\\never, due to the relative ease of world travel more visitors who are')]"
      ]
     },
     "execution_count": 8,
     "metadata": {},
     "output_type": "execute_result"
    }
   ],
   "source": [
    "dermatology_retriever = dermatology_vector_store.as_retriever(search_type=\"mmr\",search_kwargs={\"k\":3})\n",
    "dentist_retriever = dentis_vector_store.as_retriever(search_type=\"mmr\",search_kwargs={\"k\":3})\n",
    "psychiatrist_retriever = psychiatrist_vector_store.as_retriever(search_type=\"mmr\",search_kwargs={\"k\":3})\n",
    "\n",
    "dermatology_retriever.invoke(\"What are som skin disease\")"
   ]
  },
  {
   "cell_type": "markdown",
   "id": "244a5a50",
   "metadata": {},
   "source": [
    "## Retriever(Sparse)"
   ]
  },
  {
   "cell_type": "code",
   "execution_count": 9,
   "id": "44584000",
   "metadata": {},
   "outputs": [],
   "source": [
    "bm25_retriever_dentist = BM25Retriever.from_documents(dentist_chunks)\n",
    "bm25_retriever_dentist.k=2\n",
    "\n",
    "bm25_retriever_dermatology = BM25Retriever.from_documents(dermatology_chunks)\n",
    "bm25_retriever_dermatology.k=2\n",
    "\n",
    "bm25_retriever_psychiatrist = BM25Retriever.from_documents(psychiatrist_chunks)\n",
    "bm25_retriever_psychiatrist.k=2"
   ]
  },
  {
   "cell_type": "markdown",
   "id": "146dcdf1",
   "metadata": {},
   "source": [
    "### Dense Retriever"
   ]
  },
  {
   "cell_type": "code",
   "execution_count": 10,
   "id": "71d990b3",
   "metadata": {},
   "outputs": [],
   "source": [
    "hybrid_retrieval_dermatology = EnsembleRetriever(\n",
    "    retrievers=[dermatology_retriever,bm25_retriever_dermatology],\n",
    "    weights=[0.4,0.6]\n",
    ")\n",
    "\n",
    "hybrid_retrieval_dentist = EnsembleRetriever(\n",
    "    retrievers=[dentist_retriever,bm25_retriever_dentist],\n",
    "    weights=[0.4,0.6]\n",
    ")\n",
    "\n",
    "hybrid_retrieval_psychiatrist = EnsembleRetriever(\n",
    "    retrievers=[psychiatrist_retriever,bm25_retriever_psychiatrist],\n",
    "    weights=[0.5,0.5]\n",
    ")"
   ]
  },
  {
   "cell_type": "code",
   "execution_count": 11,
   "id": "48ee80a0",
   "metadata": {},
   "outputs": [],
   "source": [
    "from langchain.document_transformers import LongContextReorder,EmbeddingsRedundantFilter\n",
    "from langchain.retrievers.document_compressors import DocumentCompressorPipeline\n",
    "filter = EmbeddingsRedundantFilter(embeddings=embedding_model)\n",
    "context_reorder = LongContextReorder()  #it may score document chunks based on some heuristic (like token overlap, density, metadata relevance), and then reorder them accordingly.\n",
    "reranker = CohereRerank(model = \"rerank-english-v3.0\")\n",
    "\n",
    "pipe = DocumentCompressorPipeline(transformers=[filter,context_reorder,reranker])"
   ]
  },
  {
   "cell_type": "code",
   "execution_count": 12,
   "id": "26403bc5",
   "metadata": {},
   "outputs": [],
   "source": [
    "final_retriever = ContextualCompressionRetriever(\n",
    "    base_retriever=hybrid_retrieval_dermatology,\n",
    "    base_compressor=pipe\n",
    ")"
   ]
  },
  {
   "cell_type": "code",
   "execution_count": 13,
   "id": "c155afd3",
   "metadata": {},
   "outputs": [],
   "source": [
    "parser = StrOutputParser()\n",
    "prompt_text = PromptTemplate(\n",
    "    template=\"\"\"You are a highly accurate medical assistant.\n",
    "        Use only the given context to answer the user's question.\n",
    "        If the context does not contain the information needed, simply reply:\n",
    "        \"I don't know based on the given context.\"\n",
    "        CONTEXT:\n",
    "        {context}\n",
    "        QUESTION:\n",
    "        {question}\n",
    "        Your Answer:\"\"\",\n",
    "input_variables=[\"context\", \"question\"])"
   ]
  },
  {
   "cell_type": "code",
   "execution_count": 14,
   "id": "4e144ca9",
   "metadata": {},
   "outputs": [],
   "source": [
    "callback = [StreamingStdOutCallbackHandler()]\n",
    "model = ChatGroq(model=\"deepseek-r1-distill-llama-70b\",streaming=True,callbacks=callback)"
   ]
  },
  {
   "cell_type": "code",
   "execution_count": null,
   "id": "995d9b88",
   "metadata": {},
   "outputs": [],
   "source": [
    "for chunk in model.stream(\"tell me about Pakistan in 7 lines\"):\n",
    "    print(chunk.content, end=\"\")"
   ]
  },
  {
   "cell_type": "markdown",
   "id": "f4564451",
   "metadata": {},
   "source": [
    "## Text Generation Chain"
   ]
  },
  {
   "cell_type": "code",
   "execution_count": 15,
   "id": "8504b683",
   "metadata": {},
   "outputs": [],
   "source": [
    "import re\n",
    "\n",
    "def context_format(context):\n",
    "    return \"\\n\\n\".join(getattr(doc,\"page_content\") for doc in context)\n",
    "\n",
    "def remove_think_tags(text):\n",
    "    return re.sub(r\"<think>.*?</think>\", \"\", text, flags=re.DOTALL).strip()\n",
    "\n",
    "parallel_chain = RunnableParallel({\n",
    "      \"context\": final_retriever | RunnableLambda(context_format),\n",
    "      \"question\":RunnablePassthrough()\n",
    "  })\n",
    "\n",
    "text_chain = parallel_chain | prompt_text | model | parser | RunnableLambda(remove_think_tags)"
   ]
  },
  {
   "cell_type": "code",
   "execution_count": 16,
   "id": "e6055aef",
   "metadata": {},
   "outputs": [
    {
     "name": "stdout",
     "output_type": "stream",
     "text": [
      "<think>\n",
      "Okay, so I need to figure out the answer to the question, \"What are some common skin diseases?\" using the provided context. Let me start by going through the context carefully to identify all the relevant information.\n",
      "\n",
      "Looking at the context, I see several sections that list different skin conditions. The first part mentions excluding infections or trauma when seeing blisters and considering photosensitizing drugs before diagnosing LE. Then, there's a section titled \"What is common?\" which breaks down skin diseases into categories: infections, infestations, inflammatory diseases, tumors, hair loss, ulcers, and pigment changes.\n",
      "\n",
      "Under infections, it lists bacterial (cellulitis, impetigo), viral (herpes simplex, varicella-zoster, warts, molluscum), and fungal (dermatophyte, yeast). Infestations include scabies, fleas, and lice. Inflammatory diseases include acne, eczema, psoriasis, and urticaria. Tumors are categorized into benign, premalignant (like solar keratoses, Bowen disease), and malignant (BCC, SCC, melanoma). There's also mention of hair loss or gain, chronic leg ulcers, and pigment changes.\n",
      "\n",
      "Additionally, the context mentions that in the community setting, conditions like skin infections, viral exanthems, tumors, and inflammatory dermatoses (acne, eczema, psoriasis, urticaria) are more common. It also notes that chronic leg ulcers and drug eruptions are common in both primary and secondary care. In hospital settings, while systemic diseases might manifest, common conditions like scabies, fungal infections, and excluding infection or trauma in blisters are still important.\n",
      "\n",
      "So, compiling all this, the common skin diseases listed include:\n",
      "\n",
      "- Bacterial infections: cellulitis, impetigo\n",
      "- Viral infections: herpes simplex, varicella-zoster, warts, molluscum\n",
      "- Fungal infections: dermatophytes, yeast\n",
      "- Infestations: scabies, fleas, lice\n",
      "- Inflammatory diseases: acne, eczema, psoriasis, urticaria\n",
      "- Tumors: benign, premalignant (solar keratoses, Bowen disease), malignant (BCC, SCC, melanoma)\n",
      "- Other conditions: hair loss, chronic leg ulcers, pigment changes\n",
      "\n",
      "I should make sure to list all these under the appropriate categories to provide a comprehensive answer.\n",
      "</think>\n",
      "\n",
      "**Common Skin Diseases**\n",
      "\n",
      "1. **Infections:**\n",
      "   - **Bacterial:** Cellulitis, Impetigo\n",
      "   - **Viral:** Herpes simplex, Varicella-zoster, Warts, Molluscum\n",
      "   - **Fungal:** Dermatophytes, Yeast\n",
      "\n",
      "2. **Infestations:**\n",
      "   - Scabies, Fleas, Lice\n",
      "\n",
      "3. **Inflammatory Diseases:**\n",
      "   - Acne, Eczema, Psoriasis, Urticaria\n",
      "\n",
      "4. **Tumors:**\n",
      "   - **Benign**\n",
      "   - **Premalignant:** Solar keratoses, Bowen disease\n",
      "   - **Malignant:** Basal Cell Carcinoma (BCC), Squamous Cell Carcinoma (SCC), Malignant Melanoma\n",
      "\n",
      "5. **Other Conditions:**\n",
      "   - Hair loss or gain\n",
      "   - Chronic leg ulcers\n",
      "   - Pigment changes (gain or loss)\n",
      "\n",
      "These categories cover a wide range of common skin diseases encountered in both community and hospital settings."
     ]
    },
    {
     "data": {
      "text/markdown": [
       "**Common Skin Diseases**\n",
       "\n",
       "1. **Infections:**\n",
       "   - **Bacterial:** Cellulitis, Impetigo\n",
       "   - **Viral:** Herpes simplex, Varicella-zoster, Warts, Molluscum\n",
       "   - **Fungal:** Dermatophytes, Yeast\n",
       "\n",
       "2. **Infestations:**\n",
       "   - Scabies, Fleas, Lice\n",
       "\n",
       "3. **Inflammatory Diseases:**\n",
       "   - Acne, Eczema, Psoriasis, Urticaria\n",
       "\n",
       "4. **Tumors:**\n",
       "   - **Benign**\n",
       "   - **Premalignant:** Solar keratoses, Bowen disease\n",
       "   - **Malignant:** Basal Cell Carcinoma (BCC), Squamous Cell Carcinoma (SCC), Malignant Melanoma\n",
       "\n",
       "5. **Other Conditions:**\n",
       "   - Hair loss or gain\n",
       "   - Chronic leg ulcers\n",
       "   - Pigment changes (gain or loss)\n",
       "\n",
       "These categories cover a wide range of common skin diseases encountered in both community and hospital settings."
      ],
      "text/plain": [
       "<IPython.core.display.Markdown object>"
      ]
     },
     "metadata": {},
     "output_type": "display_data"
    }
   ],
   "source": [
    "from IPython.display import display,Markdown\n",
    "result = text_chain.invoke(\"What are some common skin disease\")\n",
    "display(Markdown(result))\n"
   ]
  },
  {
   "cell_type": "markdown",
   "id": "db7f0d3a",
   "metadata": {},
   "source": [
    "# Vision Model"
   ]
  },
  {
   "cell_type": "code",
   "execution_count": null,
   "id": "4faec6af",
   "metadata": {},
   "outputs": [],
   "source": [
    "# model_image = ChatGoogleGenerativeAI(model = \"gemini-1.5-flash\")\n",
    "vision_model = ChatGroq(model=\"meta-llama/llama-4-scout-17b-16e-instruct\")"
   ]
  },
  {
   "cell_type": "markdown",
   "id": "b45e2e95",
   "metadata": {},
   "source": [
    "### Loading Image From Link"
   ]
  },
  {
   "cell_type": "code",
   "execution_count": null,
   "id": "9ec40a0e",
   "metadata": {},
   "outputs": [],
   "source": [
    "import requests\n",
    "import os\n",
    "from PIL import Image   # pillow\n",
    "\n",
    "def get_image(url,file_name,extension):\n",
    "    os.makedirs(\"content\",exist_ok=True)\n",
    "    content = requests.get(url).content\n",
    "\n",
    "    #save image to gile\n",
    "    file_path = f\"content/{file_name}.{extension}\"\n",
    "    with open(file_path,\"wb\") as f:\n",
    "        f.write(content)\n",
    "\n",
    "    image = Image.open(file_path)\n",
    "    image.show()\n",
    "    return image\n",
    "\n",
    "image_url = \"https://earthshotprize.org/wp-content/uploads/2023/05/bee-on-flower.jpg\"\n",
    "pil_image = get_image(image_url,\"cat\",\"png\")"
   ]
  },
  {
   "cell_type": "markdown",
   "id": "0903cd89",
   "metadata": {},
   "source": [
    "### Converting Image to text to feed in to Model"
   ]
  },
  {
   "cell_type": "code",
   "execution_count": null,
   "id": "3cf7b0ed",
   "metadata": {},
   "outputs": [
    {
     "data": {
      "image/jpeg": "[encoded data removed]",
      "image/png": "[encoded data removed]",
      "text/plain": [
       "<PIL.JpegImagePlugin.JpegImageFile image mode=RGB size=193x183>"
      ]
     },
     "execution_count": 48,
     "metadata": {},
     "output_type": "execute_result"
    }
   ],
   "source": [
    "# Base64 is a way of encoding binary data (like images, files, or videos) into a text format using only ASCII characters (letters, numbers, and a few symbols)\n",
    "# Base64 converts an image (or any file) into text.\n",
    "\n",
    "import base64\n",
    "from io import BytesIO\n",
    "from PIL import Image\n",
    "\n",
    "# model except image in base64 format\n",
    "def extract_text_from_image(pil_image,format=\"png\"):\n",
    "    buffered = BytesIO()\n",
    "    buffered.seek(0) ## Reset the buffer's position to the beginning\n",
    "    pil_image.save(buffered,format=format)\n",
    "    img_base64 = base64.b64encode(buffered.read()).decode()\n",
    "    return f\"data:image/{format.lower()};base64,{img_base64}\"  # data : It tells the browser or application that the content which follows is not a normal URL, but actual data\n",
    "\n",
    "pil = Image.open(\"image/acne.jpg\")\n",
    "image = extract_text_from_image(pil)\n",
    "\n",
    "pil"
   ]
  },
  {
   "cell_type": "code",
   "execution_count": 35,
   "id": "c22c3a45",
   "metadata": {},
   "outputs": [
    {
     "data": {
      "text/markdown": [
       "The image depicts a close-up of the right side of a person's face, showcasing their nose, mouth, and cheek. The individual has fair skin and short brown hair.\n",
       "\n",
       "**Key Features:**\n",
       "\n",
       "* **Skin Condition:** The person's cheek exhibits several red acne spots, varying in size and intensity.\n",
       "* **Attire:** A white strap is visible on their shoulder, suggesting they may be wearing a tank top or similar garment.\n",
       "* **Background:** The background of the image is a solid tan color.\n",
       "\n",
       "**Overall Impression:**\n",
       "\n",
       "The image appears to be a stock photo or illustration related to acne or skin care, given the focus on the person's facial skin condition."
      ],
      "text/plain": [
       "<IPython.core.display.Markdown object>"
      ]
     },
     "metadata": {},
     "output_type": "display_data"
    }
   ],
   "source": [
    "def create_vision_message(pil_image,query):\n",
    "    message = HumanMessage(content=[{\n",
    "        \"type\":\"text\",\n",
    "        \"text\":query},\n",
    "        {\n",
    "            \"type\":\"image_url\",\n",
    "            \"image_url\":{\"url\":pil_image}\n",
    "        }\n",
    "        ])\n",
    "    return message\n",
    "    \n",
    "message = create_vision_message(image,\"explain this image\")\n",
    "\n",
    "vision_result = vision_model.invoke([message]).content\n",
    "\n",
    "display(Markdown(vision_result))"
   ]
  },
  {
   "cell_type": "code",
   "execution_count": null,
   "id": "e22cf97b",
   "metadata": {},
   "outputs": [
    {
     "data": {
      "text/plain": [
       "{'context': 'Assessing the\\xa0impact of\\xa0skin conditions\\n35\\n\\nskin (photoageing) or skin cancer (see E p. 43)? Are these signs appro-\\npriate for the age and lifestyle of the patient or greater than you would \\nexpect?\\nIs there sparing of covered skin, with a sharp cut-\\u200boff between \\ninvolved and uninvolved skin?\\xa0Check:\\n•\\t Around the orbit (ask the patient to close his/\\u200bher eyes to see the \\neyelids).\\n•\\t Under the frame of spectacles.\\n•\\t The upper\\xa0lip.\\n•\\t Under the\\xa0nose.\\n•\\t Deep wrinkles on the\\xa0face.\\n•\\t Below the\\xa0chin.\\n•\\t Behind the\\xa0ears.\\n•\\t Under the hair—\\u200bon the forehead or at the back of the neck. Is a \\nspared area exposed, because the hair has been cut recently?\\n•\\t Under watch straps.\\n•\\t The distal phalanges, because the hands often sit with fingers \\ncurled.\\n•\\t Between the fingers.\\n•\\t Under the\\xa0shoe.\\n\\n•\\t Look for signs of chronic sun damage, e.g. mottled pigmentation, \\ntelangiectasia, yellowing, wrinkling, and keratoses (see E Box\\xa03.1, \\np. 43). The more sun damage, the greater the likelihood of \\ndeveloping a skin cancer—\\u200beventually.\\n•\\t Remember deeply tanned skin is generally unhappy\\xa0skin!\\n•\\t Solar keratoses are common and do not need treatment, unless the \\nkeratosis is thickened (indurated) when you should suspect an SCC. \\nBut solar keratoses do indicate too much sun exposure, and you \\nshould advise your patient accordingly.\\n•\\t Put the skin on the stretch to see the pearly border of a BCC (the \\ncommonest skin cancer).\\n•\\t Think again before you diagnose melanocytic naevus in an elderly \\npatient. Benign melanocytic naevi, common in youth, gradually \\nregress with age. A\\xa0pigmented tumour in an elderly patient is much \\nmore likely to be a seborrhoeic wart (raised, well-\\u200bdefined margin, \\n‘stuck-\\u200bon’ appearance, rough with a pitted, crinkled surface) or a \\nsolar lentigo (flat, smooth, even pigmentation), but it just might be a \\nmalignant melanoma.\\n•\\t Use the ABCDE criteria (see E p. 354) to assess the likelihood of \\nany pigmented lesion being a malignant melanoma, and remember \\nto look twice at moles that stand out from their neighbours—\\u200bthe \\n‘ugly ducklings’.\\n•\\t Record your findings, including the presence of sun damage and the \\nfact that you carried out a skin\\xa0check.\\n•\\t Advise patients how to protect their skin from sun damage to',\n",
       " 'question': \"That's impossible to tell from just an image.  The photo shows a person's profile; there's no expression visible to indicate happiness or any other emotion.  The presence of acne doesn't inherently indicate unhappiness either.\"}"
      ]
     },
     "execution_count": 47,
     "metadata": {},
     "output_type": "execute_result"
    }
   ],
   "source": [
    "vision_model = ChatGoogleGenerativeAI(model = \"models/gemini-1.5-flash\")\n",
    "\n",
    "def create_vision_message(pil_image,query):\n",
    "    message = HumanMessage(content=[{\n",
    "        \"type\":\"text\",\n",
    "        \"text\":query},\n",
    "        {\n",
    "            \"type\":\"image_url\",\n",
    "            \"image_url\":{\"url\":pil_image}}])\n",
    "    return message\n",
    "message = create_vision_message(image,\"is the person happy in the image\")\n",
    "\n",
    "\n",
    "def context_format(context):\n",
    "    return \"\\n\\n\".join(getattr(doc,\"page_content\") for doc in context)\n",
    "\n",
    "parallel_chain = RunnableParallel({\n",
    "      \"context\": final_retriever | RunnableLambda(context_format),\n",
    "      \"question\":RunnablePassthrough(),\n",
    "  })\n",
    "\n",
    "vision_chain =  RunnablePassthrough() | vision_model | parser | parallel_chain\n",
    "\n",
    "output = vision_chain.invoke([message])\n",
    "output"
   ]
  },
  {
   "cell_type": "code",
   "execution_count": null,
   "id": "819129ff",
   "metadata": {},
   "outputs": [],
   "source": []
  },
  {
   "cell_type": "code",
   "execution_count": null,
   "id": "19abe41b",
   "metadata": {},
   "outputs": [],
   "source": []
  },
  {
   "cell_type": "markdown",
   "id": "1d9ac1ad",
   "metadata": {},
   "source": [
    "## Record Audio"
   ]
  },
  {
   "cell_type": "code",
   "execution_count": 24,
   "id": "517e992e",
   "metadata": {},
   "outputs": [],
   "source": [
    "import speech_recognition as sr\n",
    "from pydub import AudioSegment\n",
    "from io import BytesIO\n",
    "import logging"
   ]
  },
  {
   "cell_type": "code",
   "execution_count": 30,
   "id": "86eb9ab5",
   "metadata": {},
   "outputs": [],
   "source": [
    "logging.basicConfig(level=logging.INFO,format=\"%(asctime)s - %(levelname)s - %(message)s\")\n",
    "\n",
    "# %(asctime)s: Timestamp of the log entry\n",
    "# %(levelname)s: Log level (INFO, WARNING, ERROR, etc.)\n",
    "# %(message)s: The actual log message"
   ]
  },
  {
   "cell_type": "code",
   "execution_count": 39,
   "id": "b7c62666",
   "metadata": {},
   "outputs": [
    {
     "name": "stderr",
     "output_type": "stream",
     "text": [
      "2025-05-26 19:38:34,537 - INFO - adjusting ambient noise....\n",
      "2025-05-26 19:38:35,537 - INFO - Start speaking now....\n",
      "2025-05-26 19:38:41,210 - INFO - Recording completed\n",
      "2025-05-26 19:38:43,003 - INFO - Audio File saved to Audio/Input_audio/user_input.mp3\n"
     ]
    }
   ],
   "source": [
    "\n",
    "def record_audio(save_path):\n",
    "    recognizer = sr.Recognizer()\n",
    "    try:\n",
    "        with sr.Microphone() as source:\n",
    "            logging.info(\"adjusting ambient noise....\")\n",
    "            recognizer.adjust_for_ambient_noise(source,duration=1)\n",
    "            logging.info(\"Start speaking now....\")\n",
    "\n",
    "            audio = recognizer.listen(source=source,timeout=15)\n",
    "            logging.info(\"Recording completed\")\n",
    "\n",
    "            wav_data = audio.get_wav_data()\n",
    "            audio_segment = AudioSegment.from_file(BytesIO(wav_data),format=\"wav\")\n",
    "\n",
    "            audio_segment.export(save_path,format=\"mp3\",bitrate=\"128k\")\n",
    "            logging.info(f\"Audio File saved to {save_path}\")\n",
    "    except Exception as e:\n",
    "        logging.error(f\"Error : {e}\")\n",
    "\n",
    "\n",
    "os.makedirs(\"Audio/Input_audio\",exist_ok=True)\n",
    "save_path =  \"Audio/Input_audio/user_input.mp3\"\n",
    "record_audio(save_path=save_path)"
   ]
  },
  {
   "cell_type": "markdown",
   "id": "98ada963",
   "metadata": {},
   "source": [
    "## Voice to Text"
   ]
  },
  {
   "cell_type": "code",
   "execution_count": 45,
   "id": "7ddd6d4c",
   "metadata": {},
   "outputs": [],
   "source": [
    "from groq import Groq\n",
    "model_stt = \"whisper-large-v3-turbo\""
   ]
  },
  {
   "cell_type": "code",
   "execution_count": 47,
   "id": "9afab3b5",
   "metadata": {},
   "outputs": [
    {
     "name": "stderr",
     "output_type": "stream",
     "text": [
      "2025-05-26 19:47:50,174 - INFO - HTTP Request: POST https://api.groq.com/openai/v1/audio/transcriptions \"HTTP/1.1 200 OK\"\n"
     ]
    },
    {
     "name": "stdout",
     "output_type": "stream",
     "text": [
      " My name is Hasib.\n"
     ]
    }
   ],
   "source": [
    "client = Groq()\n",
    "model_stt = \"whisper-large-v3-turbo\"\n",
    "audio_file = open(save_path,\"rb\")\n",
    "\n",
    "transcription = client.audio.transcriptions.create(\n",
    "    model = model_stt,\n",
    "    file = audio_file,\n",
    "    language = \"en\"\n",
    ")\n",
    "\n",
    "print(transcription.text)\n"
   ]
  }
 ],
 "metadata": {
  "kernelspec": {
   "display_name": "med-bot-venv",
   "language": "python",
   "name": "python3"
  },
  "language_info": {
   "codemirror_mode": {
    "name": "ipython",
    "version": 3
   },
   "file_extension": ".py",
   "mimetype": "text/x-python",
   "name": "python",
   "nbconvert_exporter": "python",
   "pygments_lexer": "ipython3",
   "version": "3.12.7"
  }
 },
 "nbformat": 4,
 "nbformat_minor": 5
}
