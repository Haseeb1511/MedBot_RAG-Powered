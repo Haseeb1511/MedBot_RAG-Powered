{
 "cells": [
  {
   "cell_type": "code",
   "execution_count": null,
   "id": "35c5dd2a",
   "metadata": {},
   "outputs": [
    {
     "data": {
      "text/plain": [
       "True"
      ]
     },
     "execution_count": 80,
     "metadata": {},
     "output_type": "execute_result"
    }
   ],
   "source": [
    "from langchain.text_splitter import RecursiveCharacterTextSplitter\n",
    "from langchain_pinecone import PineconeVectorStore\n",
    "from langchain_community.document_loaders import DirectoryLoader,PyPDFLoader\n",
    "from langchain_core.prompts import PromptTemplate\n",
    "from langchain_core.output_parsers import StrOutputParser\n",
    "from langchain_google_genai import ChatGoogleGenerativeAI,GoogleGenerativeAIEmbeddings\n",
    "from langchain_core.runnables import RunnableParallel,RunnablePassthrough,RunnableLambda\n",
    "from langchain_core.output_parsers import StrOutputParser\n",
    "from langchain_core.messages import HumanMessage\n",
    "from langchain.retrievers import EnsembleRetriever,ContextualCompressionRetriever\n",
    "from langchain_community.retrievers import BM25Retriever\n",
    "from langchain_cohere import CohereRerank\n",
    "from langchain_groq import ChatGroq\n",
    "from dotenv import load_dotenv\n",
    "from langchain.callbacks.streaming_stdout import StreamingStdOutCallbackHandler\n",
    "load_dotenv()"
   ]
  },
  {
   "cell_type": "markdown",
   "id": "1bf7d3e2",
   "metadata": {},
   "source": [
    "### Model Loading"
   ]
  },
  {
   "cell_type": "code",
   "execution_count": null,
   "id": "6e84febe",
   "metadata": {},
   "outputs": [],
   "source": [
    "\n",
    "callback = [StreamingStdOutCallbackHandler()]"
   ]
  },
  {
   "cell_type": "code",
   "execution_count": null,
   "id": "cccbc479",
   "metadata": {},
   "outputs": [],
   "source": [
    "embedding_model = GoogleGenerativeAIEmbeddings(model=\"models/embedding-001\")\n",
    "# model = ChatGoogleGenerativeAI(model=\"gemini-1.5-pro\",model_kwargs={\"streaming\":True},callbacks=callback)\n",
    "model_image = ChatGoogleGenerativeAI(model = \"gemini-1.5-flash\")\n",
    "model = ChatGroq(model=\"llama-3.1-8b-instant\",streaming=True,callbacks=callback)"
   ]
  },
  {
   "cell_type": "code",
   "execution_count": 84,
   "id": "dda13e73",
   "metadata": {},
   "outputs": [
    {
     "name": "stdout",
     "output_type": "stream",
     "text": [
      "Here are five interesting facts about Pakistan:\n",
      "\n",
      "1. **Mountainous Terrain**: Pakistan is home to the world's highest paved international border crossing, the Khunjerab Pass, which connects Pakistan to China. The country also features the world's second-highest mountain, K2, and the highest paved road, the Karakoram Highway.\n",
      "\n",
      "2. **Cultural Significance**: Pakistan is home to the oldest known human settlement, the Mehrgarh archaeological site, which dates back to around 7000 BCE. The Indus Valley Civilization, which flourished in the region from 3300 to 1300 BCE, is also an important part of Pakistan's cultural heritage.\n",
      "\n",
      "3. **Biodiversity Hotspot**: Pakistan is a biodiversity hotspot, with a wide range of flora and fauna found in its forests, deserts, and mountains. The country is home to several endangered species, including the snow leopard, the markhor, and the Bengal tiger.\n",
      "\n",
      "4. **Agricultural Sector**: Agriculture is a significant sector of Pakistan's economy, with the country producing a variety of crops, including wheat, rice, cotton, and sugarcane. The country is also known for its high-quality fruits, including mangoes, oranges, and bananas.\n",
      "\n",
      "5. **Historical Significance**: Pakistan was a key location during the Indus Valley Civilization and the ancient Silk Road. The country is also home to several important historical sites, including the Lahore Fort, the Shalimar Gardens, and the Mohenjo-Daro archaeological site."
     ]
    },
    {
     "data": {
      "text/plain": [
       "AIMessage(content=\"Here are five interesting facts about Pakistan:\\n\\n1. **Mountainous Terrain**: Pakistan is home to the world's highest paved international border crossing, the Khunjerab Pass, which connects Pakistan to China. The country also features the world's second-highest mountain, K2, and the highest paved road, the Karakoram Highway.\\n\\n2. **Cultural Significance**: Pakistan is home to the oldest known human settlement, the Mehrgarh archaeological site, which dates back to around 7000 BCE. The Indus Valley Civilization, which flourished in the region from 3300 to 1300 BCE, is also an important part of Pakistan's cultural heritage.\\n\\n3. **Biodiversity Hotspot**: Pakistan is a biodiversity hotspot, with a wide range of flora and fauna found in its forests, deserts, and mountains. The country is home to several endangered species, including the snow leopard, the markhor, and the Bengal tiger.\\n\\n4. **Agricultural Sector**: Agriculture is a significant sector of Pakistan's economy, with the country producing a variety of crops, including wheat, rice, cotton, and sugarcane. The country is also known for its high-quality fruits, including mangoes, oranges, and bananas.\\n\\n5. **Historical Significance**: Pakistan was a key location during the Indus Valley Civilization and the ancient Silk Road. The country is also home to several important historical sites, including the Lahore Fort, the Shalimar Gardens, and the Mohenjo-Daro archaeological site.\", additional_kwargs={}, response_metadata={'finish_reason': 'stop', 'model_name': 'llama-3.1-8b-instant', 'system_fingerprint': 'fp_f7bd09b454'}, id='run--50638d54-38e1-46f1-bfa5-c101a05b5dff-0', usage_metadata={'input_tokens': 40, 'output_tokens': 311, 'total_tokens': 351})"
      ]
     },
     "execution_count": 84,
     "metadata": {},
     "output_type": "execute_result"
    }
   ],
   "source": [
    "model.invoke(\"pakistan 5 fact\")"
   ]
  },
  {
   "cell_type": "markdown",
   "id": "56564b41",
   "metadata": {},
   "source": [
    "### Streaming Live Result"
   ]
  },
  {
   "cell_type": "code",
   "execution_count": null,
   "id": "7c987edb",
   "metadata": {},
   "outputs": [
    {
     "name": "stdout",
     "output_type": "stream",
     "text": [
      "PakistanPakistan, officially the, officially the Islamic Republic of Pakistan, is a country in South Asia. It's the fifth Islamic Republic of Pakistan, is a country in South Asia. It's the fifth-most populous country globally and has a diverse landscape, including deserts, mountains, and-most populous country globally and has a diverse landscape, including deserts, mountains, and fertile plains.  Its history is intertwined with the partition of India in 1947, creating a separate nation for Muslims.  Islam is the state religion fertile plains.  Its history is intertwined with the partition of India in 1947, creating a separate nation for Muslims.  Islam is the state religion, and the country has a rich cultural heritage influenced by Persian, Central Asian, and Indian traditions.  Pakistan faces ongoing challenges related to political instability, economic development, and the country has a rich cultural heritage influenced by Persian, Central Asian, and Indian traditions.  Pakistan faces ongoing challenges related to political instability, economic development, and security. It possesses nuclear weapons and plays a significant role in regional geopolitics. The country is known for its hospitality, vibrant arts, and delicious cuisine.\n",
      ", and security. It possesses nuclear weapons and plays a significant role in regional geopolitics. The country is known for its hospitality, vibrant arts, and delicious cuisine.\n"
     ]
    }
   ],
   "source": [
    "for chunk in model.stream(\"tell me about Pakistan in 7 lines\"):\n",
    "    print(chunk.content, end=\"\")"
   ]
  },
  {
   "cell_type": "markdown",
   "id": "ab87564d",
   "metadata": {},
   "source": [
    "### Document Loading"
   ]
  },
  {
   "cell_type": "code",
   "execution_count": 7,
   "id": "cb85192c",
   "metadata": {},
   "outputs": [
    {
     "name": "stdout",
     "output_type": "stream",
     "text": [
      "len: 503\n"
     ]
    }
   ],
   "source": [
    "path_to_data = \"data/\"\n",
    "def doc_load(path):\n",
    "    return DirectoryLoader(path,glob=\"*.pdf\",loader_cls=PyPDFLoader).load()\n",
    "document = doc_load(path_to_data)\n",
    "print(\"len:\",len(document))"
   ]
  },
  {
   "cell_type": "markdown",
   "id": "9a45431c",
   "metadata": {},
   "source": [
    "### Text Chunking"
   ]
  },
  {
   "cell_type": "code",
   "execution_count": 8,
   "id": "dcc673e0",
   "metadata": {},
   "outputs": [
    {
     "name": "stdout",
     "output_type": "stream",
     "text": [
      "len of chunk: 2053\n"
     ]
    }
   ],
   "source": [
    "def text_splitter(doc):\n",
    "    return RecursiveCharacterTextSplitter(chunk_size=700,chunk_overlap=140).split_documents(doc)\n",
    "chunks = text_splitter(document)\n",
    "print(\"len of chunk:\",len(chunks))"
   ]
  },
  {
   "cell_type": "markdown",
   "id": "69c5441f",
   "metadata": {},
   "source": [
    "### Creating or Loading Vector store Index(Pinecone)"
   ]
  },
  {
   "cell_type": "code",
   "execution_count": 10,
   "id": "1d893ab8",
   "metadata": {},
   "outputs": [
    {
     "name": "stdout",
     "output_type": "stream",
     "text": [
      "connected to pinecone database\n"
     ]
    }
   ],
   "source": [
    "from pinecone import Pinecone,ServerlessSpec\n",
    "import os\n",
    "\n",
    "api = os.getenv(\"PINECONE_API_KEY\")\n",
    "env = os.getenv(\"PINECONE_ENV\")\n",
    "\n",
    "pc = Pinecone(api_key=api)\n",
    "\n",
    "if \"multimodal-rag\" not in pc.list_indexes().names():\n",
    "    pc.create_index(\n",
    "        dimension=768,\n",
    "        name=\"multimodal-rag\",\n",
    "        metric=\"cosine\",\n",
    "        spec=ServerlessSpec(\n",
    "            cloud=\"aws\",\n",
    "            region=\"us-east-1\"\n",
    "        )\n",
    "    )\n",
    "print(\"connected to pinecone database\")"
   ]
  },
  {
   "cell_type": "markdown",
   "id": "8ec6df4d",
   "metadata": {},
   "source": [
    "### Vector Store"
   ]
  },
  {
   "cell_type": "code",
   "execution_count": null,
   "id": "a250983c",
   "metadata": {},
   "outputs": [
    {
     "name": "stderr",
     "output_type": "stream",
     "text": [
      "100%|██████████| 42/42 [06:41<00:00,  9.57s/it]\n"
     ]
    }
   ],
   "source": [
    "from tqdm import tqdm     # tqdm is a progress bar library that helps you visualize loops.\n",
    "\n",
    "batch_size=50\n",
    "for i in tqdm(range(0,len(chunks),batch_size)):       # as size of chunks is larger than 4mb we embedd the data in batches\n",
    "    batch = chunks[i:i+batch_size]\n",
    "    vector_store = PineconeVectorStore.from_documents(\n",
    "        documents=batch,\n",
    "        embedding=embedding_model,\n",
    "        index_name=\"multimodal-rag\"\n",
    "    )"
   ]
  },
  {
   "cell_type": "code",
   "execution_count": 19,
   "id": "1f692700",
   "metadata": {},
   "outputs": [],
   "source": [
    "vector_store = PineconeVectorStore(\n",
    "    index_name=\"multimodal-rag\",\n",
    "    embedding=embedding_model,\n",
    ")"
   ]
  },
  {
   "cell_type": "markdown",
   "id": "40727772",
   "metadata": {},
   "source": [
    "### Retriever"
   ]
  },
  {
   "cell_type": "code",
   "execution_count": null,
   "id": "62813178",
   "metadata": {},
   "outputs": [],
   "source": []
  },
  {
   "cell_type": "markdown",
   "id": "e8721570",
   "metadata": {},
   "source": [
    "### Sparse Retriever"
   ]
  },
  {
   "cell_type": "code",
   "execution_count": 69,
   "id": "44584000",
   "metadata": {},
   "outputs": [],
   "source": [
    "bm25_retriever = BM25Retriever.from_documents(chunks)\n",
    "bm25_retriever.k=3"
   ]
  },
  {
   "cell_type": "markdown",
   "id": "146dcdf1",
   "metadata": {},
   "source": [
    "### Dense Retriever"
   ]
  },
  {
   "cell_type": "code",
   "execution_count": 71,
   "id": "1e28af84",
   "metadata": {},
   "outputs": [],
   "source": [
    "dense_retriever = vector_store.as_retriever(search_kwargs={\"k\":3})"
   ]
  },
  {
   "cell_type": "code",
   "execution_count": 72,
   "id": "71d990b3",
   "metadata": {},
   "outputs": [],
   "source": [
    "hybrid_retrieval = EnsembleRetriever(\n",
    "    retrievers=[bm25_retriever,dense_retriever],\n",
    "    weights=[0.5,0.5]\n",
    ")"
   ]
  },
  {
   "cell_type": "code",
   "execution_count": 74,
   "id": "48ee80a0",
   "metadata": {},
   "outputs": [],
   "source": [
    "reranker = CohereRerank(model = \"rerank-english-v3.0\")"
   ]
  },
  {
   "cell_type": "code",
   "execution_count": 77,
   "id": "26403bc5",
   "metadata": {},
   "outputs": [],
   "source": [
    "final_retriever = ContextualCompressionRetriever(\n",
    "    base_retriever=hybrid_retrieval,\n",
    "    base_compressor=reranker\n",
    ")"
   ]
  },
  {
   "cell_type": "code",
   "execution_count": 21,
   "id": "c155afd3",
   "metadata": {},
   "outputs": [],
   "source": [
    "parser = StrOutputParser()\n",
    "prompt_text = PromptTemplate(\n",
    "    template=\"\"\"You are a highly accurate medical assistant.\n",
    "        Use ONLY the given context to answer the user's question.\n",
    "        If the context does not contain the information needed, simply reply:\n",
    "        \"I don't know based on the given context.\"\n",
    "        CONTEXT:\n",
    "        {context}\n",
    "        QUESTION:\n",
    "        {question}\n",
    "        Your Answer:\"\"\",\n",
    "input_variables=[\"context\", \"question\"])"
   ]
  },
  {
   "cell_type": "markdown",
   "id": "f4564451",
   "metadata": {},
   "source": [
    "### Text Generation Chain"
   ]
  },
  {
   "cell_type": "code",
   "execution_count": 86,
   "id": "8504b683",
   "metadata": {},
   "outputs": [],
   "source": [
    "\n",
    "def context_format(context):\n",
    "    return \"\\n\\n\".join(doc.page_content for doc in context)\n",
    "\n",
    "parallel_chain = RunnableParallel({\n",
    "      \"context\": final_retriever | RunnableLambda(context_format),\n",
    "      \"question\":RunnablePassthrough()\n",
    "  })\n",
    "\n",
    "text_chain = parallel_chain | prompt_text | model | parser"
   ]
  },
  {
   "cell_type": "code",
   "execution_count": 87,
   "id": "e6055aef",
   "metadata": {},
   "outputs": [
    {
     "name": "stdout",
     "output_type": "stream",
     "text": [
      "Here's a summary of the text in 7 lines:\n",
      "\n",
      "The patient report is used to seek medical help with personal and health information.\n",
      "It includes the patient's name, age, and location.\n",
      "The report describes the main sickness or problem, its duration, and onset.\n",
      "Normal conditions mentioned include mask of pregnancy and menstrual period.\n",
      "Abnormal conditions include mastitis (breast abscess) and menopause.\n",
      "The report also mentions micro-organisms as part of general health information.\n",
      "It's published by Hesperian Health Guides for health guides."
     ]
    },
    {
     "data": {
      "text/plain": [
       "\"Here's a summary of the text in 7 lines:\\n\\nThe patient report is used to seek medical help with personal and health information.\\nIt includes the patient's name, age, and location.\\nThe report describes the main sickness or problem, its duration, and onset.\\nNormal conditions mentioned include mask of pregnancy and menstrual period.\\nAbnormal conditions include mastitis (breast abscess) and menopause.\\nThe report also mentions micro-organisms as part of general health information.\\nIt's published by Hesperian Health Guides for health guides.\""
      ]
     },
     "execution_count": 87,
     "metadata": {},
     "output_type": "execute_result"
    }
   ],
   "source": [
    "text_chain.invoke(\"summary of the text in 7 lines\")"
   ]
  },
  {
   "cell_type": "markdown",
   "id": "db7f0d3a",
   "metadata": {},
   "source": [
    "# Vision Model"
   ]
  },
  {
   "cell_type": "markdown",
   "id": "b45e2e95",
   "metadata": {},
   "source": [
    "### Loading Image From Link"
   ]
  },
  {
   "cell_type": "code",
   "execution_count": null,
   "id": "9ec40a0e",
   "metadata": {},
   "outputs": [],
   "source": [
    "import requests\n",
    "import os\n",
    "from PIL import Image   # pillow\n",
    "\n",
    "def get_image(url,file_name,extension):\n",
    "    os.makedirs(\"content\",exist_ok=True)\n",
    "    content = requests.get(url).content\n",
    "\n",
    "    #save image to gile\n",
    "    file_path = f\"content/{file_name}.{extension}\"\n",
    "    with open(file_path,\"wb\") as f:\n",
    "        f.write(content)\n",
    "\n",
    "    image = Image.open(file_path)\n",
    "    image.show()\n",
    "    return image\n",
    "\n",
    "image_url = \"https://earthshotprize.org/wp-content/uploads/2023/05/bee-on-flower.jpg\"\n",
    "pil_image = get_image(image_url,\"cat\",\"png\")"
   ]
  },
  {
   "cell_type": "markdown",
   "id": "0903cd89",
   "metadata": {},
   "source": [
    "### Converting Image to text to feed in to Model"
   ]
  },
  {
   "cell_type": "code",
   "execution_count": null,
   "id": "3cf7b0ed",
   "metadata": {},
   "outputs": [],
   "source": [
    "# Base64 is a way of encoding binary data (like images, files, or videos) into a text format using only ASCII characters (letters, numbers, and a few symbols)\n",
    "# Base64 converts an image (or any file) into text.\n",
    "\n",
    "import base64\n",
    "from io import BytesIO\n",
    "\n",
    "# model except image in base64 format\n",
    "def extract_text_from_image(pil_image,format=\"png\"):\n",
    "    buffered = BytesIO()\n",
    "    pil_image.save(buffered,format=format)\n",
    "    img_base64 = base64.b64encode(buffered.getvalue()).decode()\n",
    "    \n",
    "    return f\"data:image/{format.lower()};base64,{img_base64}\"  # data : It tells the browser or application that the content which follows is not a normal URL, but actual data\n",
    "\n",
    "pil = Image.open(\"images/2.png\")\n",
    "image = extract_text_from_image(pil)\n",
    "\n"
   ]
  },
  {
   "cell_type": "code",
   "execution_count": null,
   "id": "c22c3a45",
   "metadata": {},
   "outputs": [],
   "source": [
    "message = HumanMessage(content=[{\n",
    "    \"type\":\"text\",\n",
    "    \"text\":\"Explain the image based on  context only\"},\n",
    "    {\n",
    "        \"type\":\"image_url\",\n",
    "        \"image_url\":image\n",
    "    }\n",
    "    ])\n",
    "\n",
    "\n",
    "img_chain = RunnablePassthrough() | model_image | parser | text_chain"
   ]
  },
  {
   "cell_type": "code",
   "execution_count": 57,
   "id": "41ca0e19",
   "metadata": {},
   "outputs": [
    {
     "data": {
      "text/plain": [
       "'WRAP THE BABY WELL. LEA VE HIM NAKED.\\nBUT IN HOT WEATHER (OR \\nWHEN THE BABY HAS A FEVER)'"
      ]
     },
     "execution_count": 57,
     "metadata": {},
     "output_type": "execute_result"
    }
   ],
   "source": [
    "img_chain.invoke([message])"
   ]
  },
  {
   "cell_type": "code",
   "execution_count": null,
   "id": "9afab3b5",
   "metadata": {},
   "outputs": [],
   "source": []
  },
  {
   "cell_type": "code",
   "execution_count": null,
   "id": "24c8c059",
   "metadata": {},
   "outputs": [],
   "source": []
  }
 ],
 "metadata": {
  "kernelspec": {
   "display_name": "med-bot",
   "language": "python",
   "name": "python3"
  },
  "language_info": {
   "codemirror_mode": {
    "name": "ipython",
    "version": 3
   },
   "file_extension": ".py",
   "mimetype": "text/x-python",
   "name": "python",
   "nbconvert_exporter": "python",
   "pygments_lexer": "ipython3",
   "version": "3.12.7"
  }
 },
 "nbformat": 4,
 "nbformat_minor": 5
}
