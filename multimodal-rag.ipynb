{
 "cells": [
  {
   "cell_type": "code",
   "execution_count": 1,
   "id": "35c5dd2a",
   "metadata": {},
   "outputs": [
    {
     "name": "stderr",
     "output_type": "stream",
     "text": [
      "c:\\Users\\hasee\\Desktop\\Lnagchain Project\\Medical ChatBot Advance(pinecone+multimodal+hybrid)\\med-bot\\Lib\\site-packages\\tqdm\\auto.py:21: TqdmWarning: IProgress not found. Please update jupyter and ipywidgets. See https://ipywidgets.readthedocs.io/en/stable/user_install.html\n",
      "  from .autonotebook import tqdm as notebook_tqdm\n"
     ]
    },
    {
     "data": {
      "text/plain": [
       "True"
      ]
     },
     "execution_count": 1,
     "metadata": {},
     "output_type": "execute_result"
    }
   ],
   "source": [
    "from langchain.text_splitter import RecursiveCharacterTextSplitter\n",
    "from langchain_pinecone import PineconeVectorStore\n",
    "from langchain_community.document_loaders import DirectoryLoader,PyPDFLoader\n",
    "from langchain_core.prompts import PromptTemplate\n",
    "from langchain_core.output_parsers import StrOutputParser\n",
    "from langchain_google_genai import ChatGoogleGenerativeAI,GoogleGenerativeAIEmbeddings\n",
    "from langchain_core.runnables import RunnableParallel,RunnablePassthrough,RunnableLambda\n",
    "from langchain_core.output_parsers import StrOutputParser\n",
    "from langchain_core.messages import HumanMessage\n",
    "from langchain.retrievers import EnsembleRetriever,ContextualCompressionRetriever\n",
    "from langchain_community.retrievers import BM25Retriever\n",
    "from langchain_cohere import CohereRerank\n",
    "from langchain_groq import ChatGroq\n",
    "from dotenv import load_dotenv\n",
    "from langchain.callbacks.streaming_stdout import StreamingStdOutCallbackHandler\n",
    "load_dotenv()"
   ]
  },
  {
   "cell_type": "markdown",
   "id": "1bf7d3e2",
   "metadata": {},
   "source": [
    "### Model Loading"
   ]
  },
  {
   "cell_type": "code",
   "execution_count": 3,
   "id": "6e84febe",
   "metadata": {},
   "outputs": [],
   "source": [
    "\n",
    "callback = [StreamingStdOutCallbackHandler()]"
   ]
  },
  {
   "cell_type": "code",
   "execution_count": 4,
   "id": "cccbc479",
   "metadata": {},
   "outputs": [],
   "source": [
    "embedding_model = GoogleGenerativeAIEmbeddings(model=\"models/embedding-001\")\n",
    "model = ChatGroq(model=\"llama-3.1-8b-instant\",streaming=True,callbacks=callback)"
   ]
  },
  {
   "cell_type": "code",
   "execution_count": 5,
   "id": "dda13e73",
   "metadata": {},
   "outputs": [
    {
     "name": "stdout",
     "output_type": "stream",
     "text": [
      "Here are five interesting facts about Pakistan:\n",
      "\n",
      "1. **Strategic Location**: Pakistan is located at the crossroads of Asia, bordering four countries: India to the east, Afghanistan to the west, Iran to the southwest, and China to the north. Its unique location makes it a vital trade and transportation hub between Central Asia and South Asia.\n",
      "\n",
      "2. **Mountainous Terrain**: Pakistan is home to some of the world's highest and most rugged mountains, including the Karakoram and Himalayan ranges. K2, the second-highest mountain in the world, is located in the Karakoram range in Pakistan. These mountains have created several valleys and mountain passes, which are home to a diverse range of flora and fauna.\n",
      "\n",
      "3. **Cultural Heritage**: Pakistan has a rich cultural heritage, with a history dating back over 4,000 years. The country is home to several UNESCO World Heritage Sites, including the ancient cities of Mohenjo-Daro and Harappa, which were once part of the Indus Valley Civilization. Pakistan is also famous for its Sufi shrines, which attract millions of visitors every year.\n",
      "\n",
      "4. **Fast-Growing Economy**: Pakistan has a rapidly growing economy, with a GDP growth rate of over 5% in recent years. The country has made significant progress in areas such as IT, textiles, and agriculture, and has become an important player in the regional economy. Pakistan is also home to several major ports, including the Port of Karachi, which is one of the busiest ports in the world.\n",
      "\n",
      "5. **Tourism Potential**: Pakistan has enormous tourism potential, with a diverse range of landscapes, cultures, and historical sites to explore. The country is home to several natural wonders, including the Naltar Valley, the Deosai National Park, and the Ratti Gali Lake. Pakistan's tourism industry has been growing rapidly in recent years, with visitors attracted by the country's natural beauty, rich culture, and warm hospitality."
     ]
    },
    {
     "data": {
      "text/plain": [
       "AIMessage(content=\"Here are five interesting facts about Pakistan:\\n\\n1. **Strategic Location**: Pakistan is located at the crossroads of Asia, bordering four countries: India to the east, Afghanistan to the west, Iran to the southwest, and China to the north. Its unique location makes it a vital trade and transportation hub between Central Asia and South Asia.\\n\\n2. **Mountainous Terrain**: Pakistan is home to some of the world's highest and most rugged mountains, including the Karakoram and Himalayan ranges. K2, the second-highest mountain in the world, is located in the Karakoram range in Pakistan. These mountains have created several valleys and mountain passes, which are home to a diverse range of flora and fauna.\\n\\n3. **Cultural Heritage**: Pakistan has a rich cultural heritage, with a history dating back over 4,000 years. The country is home to several UNESCO World Heritage Sites, including the ancient cities of Mohenjo-Daro and Harappa, which were once part of the Indus Valley Civilization. Pakistan is also famous for its Sufi shrines, which attract millions of visitors every year.\\n\\n4. **Fast-Growing Economy**: Pakistan has a rapidly growing economy, with a GDP growth rate of over 5% in recent years. The country has made significant progress in areas such as IT, textiles, and agriculture, and has become an important player in the regional economy. Pakistan is also home to several major ports, including the Port of Karachi, which is one of the busiest ports in the world.\\n\\n5. **Tourism Potential**: Pakistan has enormous tourism potential, with a diverse range of landscapes, cultures, and historical sites to explore. The country is home to several natural wonders, including the Naltar Valley, the Deosai National Park, and the Ratti Gali Lake. Pakistan's tourism industry has been growing rapidly in recent years, with visitors attracted by the country's natural beauty, rich culture, and warm hospitality.\", additional_kwargs={}, response_metadata={'finish_reason': 'stop', 'model_name': 'llama-3.1-8b-instant', 'system_fingerprint': 'fp_a4265e44d5'}, id='run--c467a7e6-3e90-4c77-8f98-e84ee1ee75fc-0', usage_metadata={'input_tokens': 40, 'output_tokens': 399, 'total_tokens': 439})"
      ]
     },
     "execution_count": 5,
     "metadata": {},
     "output_type": "execute_result"
    }
   ],
   "source": [
    "model.invoke(\"pakistan 5 fact\")"
   ]
  },
  {
   "cell_type": "markdown",
   "id": "56564b41",
   "metadata": {},
   "source": [
    "### Streaming Live Result"
   ]
  },
  {
   "cell_type": "code",
   "execution_count": null,
   "id": "7c987edb",
   "metadata": {},
   "outputs": [
    {
     "name": "stdout",
     "output_type": "stream",
     "text": [
      "PakistanPakistan, officially the, officially the Islamic Republic of Pakistan, is a country in South Asia. It's the fifth Islamic Republic of Pakistan, is a country in South Asia. It's the fifth-most populous country globally and has a diverse landscape, including deserts, mountains, and-most populous country globally and has a diverse landscape, including deserts, mountains, and fertile plains.  Its history is intertwined with the partition of India in 1947, creating a separate nation for Muslims.  Islam is the state religion fertile plains.  Its history is intertwined with the partition of India in 1947, creating a separate nation for Muslims.  Islam is the state religion, and the country has a rich cultural heritage influenced by Persian, Central Asian, and Indian traditions.  Pakistan faces ongoing challenges related to political instability, economic development, and the country has a rich cultural heritage influenced by Persian, Central Asian, and Indian traditions.  Pakistan faces ongoing challenges related to political instability, economic development, and security. It possesses nuclear weapons and plays a significant role in regional geopolitics. The country is known for its hospitality, vibrant arts, and delicious cuisine.\n",
      ", and security. It possesses nuclear weapons and plays a significant role in regional geopolitics. The country is known for its hospitality, vibrant arts, and delicious cuisine.\n"
     ]
    }
   ],
   "source": [
    "for chunk in model.stream(\"tell me about Pakistan in 7 lines\"):\n",
    "    print(chunk.content, end=\"\")"
   ]
  },
  {
   "cell_type": "markdown",
   "id": "ab87564d",
   "metadata": {},
   "source": [
    "### Document Loading"
   ]
  },
  {
   "cell_type": "code",
   "execution_count": 6,
   "id": "cb85192c",
   "metadata": {},
   "outputs": [
    {
     "name": "stdout",
     "output_type": "stream",
     "text": [
      "len of biology  565\n",
      "len of dentist  1449\n"
     ]
    }
   ],
   "source": [
    "\n",
    "def doc_load(path):\n",
    "    return DirectoryLoader(path,glob=\"*.pdf\",loader_cls=PyPDFLoader).load()\n",
    "\n",
    "\n",
    "path_to_dentist = \"data/Dentist\"\n",
    "path_to_biology = \"data/school(9th,10th,11th)\"\n",
    "\n",
    "dentist_document = doc_load(path_to_dentist)\n",
    "biology_document = doc_load(path_to_biology)\n",
    "\n",
    "print(\"len of biology \",len(biology_document))\n",
    "print(\"len of dentist \",len(dentist_document))"
   ]
  },
  {
   "cell_type": "markdown",
   "id": "9a45431c",
   "metadata": {},
   "source": [
    "### Text Chunking"
   ]
  },
  {
   "cell_type": "code",
   "execution_count": 7,
   "id": "dcc673e0",
   "metadata": {},
   "outputs": [
    {
     "name": "stdout",
     "output_type": "stream",
     "text": [
      "len of biology chunnks: 8621\n",
      "len of dentist chunnks: 1040\n"
     ]
    }
   ],
   "source": [
    "def text_splitter(doc):\n",
    "    return RecursiveCharacterTextSplitter(chunk_size=700,chunk_overlap=140).split_documents(doc)\n",
    "\n",
    "biology_chunks = text_splitter(biology_document)\n",
    "dentist_chunks = text_splitter(dentist_document)\n",
    "\n",
    "print(\"len of biology chunnks:\",len(dentist_chunks))\n",
    "print(\"len of dentist chunnks:\",len(biology_chunks))"
   ]
  },
  {
   "cell_type": "markdown",
   "id": "69c5441f",
   "metadata": {},
   "source": [
    "### Creating or Loading Vector store Index(Pinecone)"
   ]
  },
  {
   "cell_type": "code",
   "execution_count": 10,
   "id": "1d893ab8",
   "metadata": {},
   "outputs": [
    {
     "name": "stdout",
     "output_type": "stream",
     "text": [
      "connected to pinecone database\n"
     ]
    }
   ],
   "source": [
    "from pinecone import Pinecone,ServerlessSpec\n",
    "import os\n",
    "\n",
    "api = os.getenv(\"PINECONE_API_KEY\")\n",
    "env = os.getenv(\"PINECONE_ENV\")\n",
    "\n",
    "pc = Pinecone(api_key=api)\n",
    "\n",
    "if \"multimodal-rag\" not in pc.list_indexes().names():\n",
    "    pc.create_index(\n",
    "        dimension=768,\n",
    "        name=\"multimodal-rag\",\n",
    "        metric=\"cosine\",\n",
    "        spec=ServerlessSpec(\n",
    "            cloud=\"aws\",\n",
    "            region=\"us-east-1\"\n",
    "        )\n",
    "    )\n",
    "print(\"connected to pinecone database\")"
   ]
  },
  {
   "cell_type": "markdown",
   "id": "8ec6df4d",
   "metadata": {},
   "source": [
    "### Vector Store"
   ]
  },
  {
   "cell_type": "code",
   "execution_count": null,
   "id": "a250983c",
   "metadata": {},
   "outputs": [
    {
     "name": "stderr",
     "output_type": "stream",
     "text": [
      "100%|██████████| 42/42 [06:41<00:00,  9.57s/it]\n"
     ]
    }
   ],
   "source": [
    "from tqdm import tqdm     # tqdm is a progress bar library that helps you visualize loops.\n",
    "\n",
    "batch_size=50\n",
    "for i in tqdm(range(0,len(biology_chunks),batch_size)):       # as size of chunks is larger than 4mb we embedd the data in batches\n",
    "    batch = biology_chunks[i:i+batch_size]\n",
    "    Biology_vector_store = PineconeVectorStore.from_documents(\n",
    "        documents=batch,\n",
    "        embedding=embedding_model,\n",
    "        index_name=\"multimodal-rag\"\n",
    "    )\n",
    "\n",
    "\n",
    "for i in tqdm(range(0,len(dentist_chunks),batch_size)):       \n",
    "    batch = dentist_chunks[i:i+batch_size]\n",
    "    dentist_vector_store = PineconeVectorStore.from_documents(\n",
    "        documents=batch,\n",
    "        embedding=embedding_model,\n",
    "        index_name=\"multimodal-rag\"\n",
    "    )"
   ]
  },
  {
   "cell_type": "code",
   "execution_count": 19,
   "id": "1f692700",
   "metadata": {},
   "outputs": [],
   "source": [
    "vector_store = PineconeVectorStore(\n",
    "    index_name=\"multimodal-rag\",\n",
    "    embedding=embedding_model,\n",
    ")"
   ]
  },
  {
   "cell_type": "markdown",
   "id": "40727772",
   "metadata": {},
   "source": [
    "### Retriever"
   ]
  },
  {
   "cell_type": "code",
   "execution_count": null,
   "id": "fa19c307",
   "metadata": {},
   "outputs": [],
   "source": []
  },
  {
   "cell_type": "markdown",
   "id": "e8721570",
   "metadata": {},
   "source": [
    "### Sparse Retriever"
   ]
  },
  {
   "cell_type": "code",
   "execution_count": 69,
   "id": "44584000",
   "metadata": {},
   "outputs": [],
   "source": [
    "bm25_retriever = BM25Retriever.from_documents(chunks)\n",
    "bm25_retriever.k=3"
   ]
  },
  {
   "cell_type": "markdown",
   "id": "146dcdf1",
   "metadata": {},
   "source": [
    "### Dense Retriever"
   ]
  },
  {
   "cell_type": "code",
   "execution_count": 71,
   "id": "1e28af84",
   "metadata": {},
   "outputs": [],
   "source": [
    "dense_retriever = vector_store.as_retriever(search_kwargs={\"k\":3})"
   ]
  },
  {
   "cell_type": "code",
   "execution_count": 72,
   "id": "71d990b3",
   "metadata": {},
   "outputs": [],
   "source": [
    "hybrid_retrieval = EnsembleRetriever(\n",
    "    retrievers=[bm25_retriever,dense_retriever],\n",
    "    weights=[0.5,0.5]\n",
    ")"
   ]
  },
  {
   "cell_type": "code",
   "execution_count": 74,
   "id": "48ee80a0",
   "metadata": {},
   "outputs": [],
   "source": [
    "reranker = CohereRerank(model = \"rerank-english-v3.0\")"
   ]
  },
  {
   "cell_type": "code",
   "execution_count": 77,
   "id": "26403bc5",
   "metadata": {},
   "outputs": [],
   "source": [
    "final_retriever = ContextualCompressionRetriever(\n",
    "    base_retriever=hybrid_retrieval,\n",
    "    base_compressor=reranker\n",
    ")"
   ]
  },
  {
   "cell_type": "code",
   "execution_count": 21,
   "id": "c155afd3",
   "metadata": {},
   "outputs": [],
   "source": [
    "parser = StrOutputParser()\n",
    "prompt_text = PromptTemplate(\n",
    "    template=\"\"\"You are a highly accurate medical assistant.\n",
    "        Use ONLY the given context to answer the user's question.\n",
    "        If the context does not contain the information needed, simply reply:\n",
    "        \"I don't know based on the given context.\"\n",
    "        CONTEXT:\n",
    "        {context}\n",
    "        QUESTION:\n",
    "        {question}\n",
    "        Your Answer:\"\"\",\n",
    "input_variables=[\"context\", \"question\"])"
   ]
  },
  {
   "cell_type": "code",
   "execution_count": null,
   "id": "5016caeb",
   "metadata": {},
   "outputs": [],
   "source": [
    "# model_image = ChatGoogleGenerativeAI(model = \"gemini-1.5-flash\")\n",
    "\n",
    "model_image = ChatGroq(model=)\n"
   ]
  },
  {
   "cell_type": "markdown",
   "id": "f4564451",
   "metadata": {},
   "source": [
    "### Text Generation Chain"
   ]
  },
  {
   "cell_type": "code",
   "execution_count": 86,
   "id": "8504b683",
   "metadata": {},
   "outputs": [],
   "source": [
    "\n",
    "def context_format(context):\n",
    "    return \"\\n\\n\".join(doc.page_content for doc in context)\n",
    "\n",
    "parallel_chain = RunnableParallel({\n",
    "      \"context\": final_retriever | RunnableLambda(context_format),\n",
    "      \"question\":RunnablePassthrough()\n",
    "  })\n",
    "\n",
    "text_chain = parallel_chain | prompt_text | model | parser"
   ]
  },
  {
   "cell_type": "code",
   "execution_count": 87,
   "id": "e6055aef",
   "metadata": {},
   "outputs": [
    {
     "name": "stdout",
     "output_type": "stream",
     "text": [
      "Here's a summary of the text in 7 lines:\n",
      "\n",
      "The patient report is used to seek medical help with personal and health information.\n",
      "It includes the patient's name, age, and location.\n",
      "The report describes the main sickness or problem, its duration, and onset.\n",
      "Normal conditions mentioned include mask of pregnancy and menstrual period.\n",
      "Abnormal conditions include mastitis (breast abscess) and menopause.\n",
      "The report also mentions micro-organisms as part of general health information.\n",
      "It's published by Hesperian Health Guides for health guides."
     ]
    },
    {
     "data": {
      "text/plain": [
       "\"Here's a summary of the text in 7 lines:\\n\\nThe patient report is used to seek medical help with personal and health information.\\nIt includes the patient's name, age, and location.\\nThe report describes the main sickness or problem, its duration, and onset.\\nNormal conditions mentioned include mask of pregnancy and menstrual period.\\nAbnormal conditions include mastitis (breast abscess) and menopause.\\nThe report also mentions micro-organisms as part of general health information.\\nIt's published by Hesperian Health Guides for health guides.\""
      ]
     },
     "execution_count": 87,
     "metadata": {},
     "output_type": "execute_result"
    }
   ],
   "source": [
    "text_chain.invoke(\"summary of the text in 7 lines\")"
   ]
  },
  {
   "cell_type": "markdown",
   "id": "db7f0d3a",
   "metadata": {},
   "source": [
    "# Vision Model"
   ]
  },
  {
   "cell_type": "markdown",
   "id": "b45e2e95",
   "metadata": {},
   "source": [
    "### Loading Image From Link"
   ]
  },
  {
   "cell_type": "code",
   "execution_count": null,
   "id": "9ec40a0e",
   "metadata": {},
   "outputs": [],
   "source": [
    "import requests\n",
    "import os\n",
    "from PIL import Image   # pillow\n",
    "\n",
    "def get_image(url,file_name,extension):\n",
    "    os.makedirs(\"content\",exist_ok=True)\n",
    "    content = requests.get(url).content\n",
    "\n",
    "    #save image to gile\n",
    "    file_path = f\"content/{file_name}.{extension}\"\n",
    "    with open(file_path,\"wb\") as f:\n",
    "        f.write(content)\n",
    "\n",
    "    image = Image.open(file_path)\n",
    "    image.show()\n",
    "    return image\n",
    "\n",
    "image_url = \"https://earthshotprize.org/wp-content/uploads/2023/05/bee-on-flower.jpg\"\n",
    "pil_image = get_image(image_url,\"cat\",\"png\")"
   ]
  },
  {
   "cell_type": "markdown",
   "id": "0903cd89",
   "metadata": {},
   "source": [
    "### Converting Image to text to feed in to Model"
   ]
  },
  {
   "cell_type": "code",
   "execution_count": null,
   "id": "3cf7b0ed",
   "metadata": {},
   "outputs": [],
   "source": [
    "# Base64 is a way of encoding binary data (like images, files, or videos) into a text format using only ASCII characters (letters, numbers, and a few symbols)\n",
    "# Base64 converts an image (or any file) into text.\n",
    "\n",
    "import base64\n",
    "from io import BytesIO\n",
    "\n",
    "# model except image in base64 format\n",
    "def extract_text_from_image(pil_image,format=\"png\"):\n",
    "    buffered = BytesIO()\n",
    "    pil_image.save(buffered,format=format)\n",
    "    img_base64 = base64.b64encode(buffered.getvalue()).decode()\n",
    "    return f\"data:image/{format.lower()};base64,{img_base64}\"  # data : It tells the browser or application that the content which follows is not a normal URL, but actual data\n",
    "\n",
    "pil = Image.open(\"images/2.png\")\n",
    "image = extract_text_from_image(pil)\n",
    "\n"
   ]
  },
  {
   "cell_type": "code",
   "execution_count": null,
   "id": "c22c3a45",
   "metadata": {},
   "outputs": [],
   "source": [
    "message = HumanMessage(content=[{\n",
    "    \"type\":\"text\",\n",
    "    \"text\":\"Explain the image based on  context only\"},\n",
    "    {\n",
    "        \"type\":\"image_url\",\n",
    "        \"image_url\":image\n",
    "    }\n",
    "    ])\n",
    "\n",
    "\n",
    "img_chain = RunnablePassthrough() | model_image | parser | text_chain"
   ]
  },
  {
   "cell_type": "code",
   "execution_count": 57,
   "id": "41ca0e19",
   "metadata": {},
   "outputs": [
    {
     "data": {
      "text/plain": [
       "'WRAP THE BABY WELL. LEA VE HIM NAKED.\\nBUT IN HOT WEATHER (OR \\nWHEN THE BABY HAS A FEVER)'"
      ]
     },
     "execution_count": 57,
     "metadata": {},
     "output_type": "execute_result"
    }
   ],
   "source": [
    "img_chain.invoke([message])"
   ]
  },
  {
   "cell_type": "markdown",
   "id": "1d9ac1ad",
   "metadata": {},
   "source": [
    "## Record Audio"
   ]
  },
  {
   "cell_type": "code",
   "execution_count": null,
   "id": "517e992e",
   "metadata": {},
   "outputs": [
    {
     "ename": "SyntaxError",
     "evalue": "invalid syntax (2850803702.py, line 1)",
     "output_type": "error",
     "traceback": [
      "  \u001b[36mCell\u001b[39m\u001b[36m \u001b[39m\u001b[32mIn[1]\u001b[39m\u001b[32m, line 1\u001b[39m\n\u001b[31m    \u001b[39m\u001b[31mimport speech_recogination as src/\u001b[39m\n                                     ^\n\u001b[31mSyntaxError\u001b[39m\u001b[31m:\u001b[39m invalid syntax\n"
     ]
    }
   ],
   "source": [
    "import speech_recogination as sr\n",
    "from pydub import AudioSegment\n",
    "from io import BytesIO\n",
    "import logging"
   ]
  },
  {
   "cell_type": "code",
   "execution_count": null,
   "id": "86eb9ab5",
   "metadata": {},
   "outputs": [],
   "source": [
    "logging.basicConfig(level=logging.info,format = \"{ascitime}s-{levelname}s-{message}s\")"
   ]
  },
  {
   "cell_type": "code",
   "execution_count": null,
   "id": "b7c62666",
   "metadata": {},
   "outputs": [],
   "source": [
    "def record_audio(save_path):\n",
    "    recognizer = sr.Recognizer()\n",
    "    try:\n",
    "        with sr.microphone as source:\n",
    "            logging.info(\"adjusting ambient noise....\")\n",
    "            recognizer.adjust_ambient_noise(duration=1,source)\n",
    "            logging.info(\"Start speaking now....\")\n",
    "\n",
    "            audio = recognizer.listen(source=source,timeout=15)\n",
    "            logging.info(\"Recording completed\")\n",
    "\n",
    "            wav_data = audio.get_wav_data()\n",
    "            audio_segment = AudioSegment.from_file(BytesIO(wav_data),format=\"wav\")\n",
    "\n",
    "            audio_segment.export(save_path,format=\"mp3\",bitrate=\"128k\")\n",
    "            logging.info(f\"Audio File saved to {save_path}\")\n",
    "    except Exception as e:\n",
    "        logging.error(f\"Error : {e}\")\n",
    "\n",
    "\n",
    "save_path = os.makedirs(\"Audio/Input_audio/user_input.mp3\",exist_ok=True)\n",
    "record_audio(save_path=save_path)"
   ]
  },
  {
   "cell_type": "markdown",
   "id": "98ada963",
   "metadata": {},
   "source": [
    "## Voice to Text"
   ]
  },
  {
   "cell_type": "code",
   "execution_count": null,
   "id": "9afab3b5",
   "metadata": {},
   "outputs": [],
   "source": [
    "client = Groq()\n",
    "model_stt = \"whisper-large-v3-turbo\"\n",
    "audio_file = open(save_path,\"rb\")\n",
    "\n",
    "transcription = client.audio.transcription.creat(\n",
    "    model = model_stt,\n",
    "    file = audio_file,\n",
    "    language = \"en\"\n",
    ")\n",
    "\n",
    "print(transcription.text)\n"
   ]
  },
  {
   "cell_type": "code",
   "execution_count": null,
   "id": "24c8c059",
   "metadata": {},
   "outputs": [],
   "source": []
  }
 ],
 "metadata": {
  "kernelspec": {
   "display_name": "med-bot",
   "language": "python",
   "name": "python3"
  },
  "language_info": {
   "codemirror_mode": {
    "name": "ipython",
    "version": 3
   },
   "file_extension": ".py",
   "mimetype": "text/x-python",
   "name": "python",
   "nbconvert_exporter": "python",
   "pygments_lexer": "ipython3",
   "version": "3.12.7"
  }
 },
 "nbformat": 4,
 "nbformat_minor": 5
}
